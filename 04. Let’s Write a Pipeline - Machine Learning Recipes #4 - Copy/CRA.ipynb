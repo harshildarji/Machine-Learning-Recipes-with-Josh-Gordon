{
 "cells": [
  {
   "cell_type": "code",
   "execution_count": 1,
   "metadata": {},
   "outputs": [],
   "source": [
    "X_train = [[1.5, 1.5], [2.5, 1.0], [-4.5, 1], [-2.5, 1], [-2, 1]]\n",
    "X_test = [[0, 0]]\n",
    "Y_train = ['A', 'A', 'B', 'B', 'B']"
   ]
  },
  {
   "cell_type": "code",
   "execution_count": 2,
   "metadata": {},
   "outputs": [],
   "source": [
    "from sklearn.neighbors.nearest_centroid import NearestCentroid\n",
    "from sklearn.neighbors import KNeighborsClassifier\n",
    "clfs = [NearestCentroid(), KNeighborsClassifier()]\n",
    "predictions = []\n",
    "for i in range(2):\n",
    "    my_classifier = clfs[i]\n",
    "    my_classifier.fit(X_train, Y_train)\n",
    "    predictions.append(my_classifier.predict(X_test))"
   ]
  },
  {
   "cell_type": "code",
   "execution_count": 3,
   "metadata": {},
   "outputs": [
    {
     "name": "stdout",
     "output_type": "stream",
     "text": [
      "Prediction using:\n",
      "- Nearest Centroid: ['A']\n",
      "- K-Neighbour: ['B']\n"
     ]
    }
   ],
   "source": [
    "print('Prediction using:\\n- Nearest Centroid: {}\\n- K-Neighbour: {}'.format(predictions[0], predictions[1]))"
   ]
  }
 ],
 "metadata": {
  "kernelspec": {
   "display_name": "Python 3",
   "language": "python",
   "name": "python3"
  },
  "language_info": {
   "codemirror_mode": {
    "name": "ipython",
    "version": 3
   },
   "file_extension": ".py",
   "mimetype": "text/x-python",
   "name": "python",
   "nbconvert_exporter": "python",
   "pygments_lexer": "ipython3",
   "version": "3.6.4"
  }
 },
 "nbformat": 4,
 "nbformat_minor": 2
}
