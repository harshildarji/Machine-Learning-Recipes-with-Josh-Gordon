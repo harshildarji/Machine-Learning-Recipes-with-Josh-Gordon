{
 "cells": [
  {
   "cell_type": "markdown",
   "metadata": {},
   "source": [
    "[What Makes a Good Feature? - Machine Learning Recipes #3](https://youtu.be/N9fDIAflCMY?list=PLOU2XLYxmsIIuiBfYad6rFYQU_jL2ryal)"
   ]
  },
  {
   "cell_type": "code",
   "execution_count": 1,
   "metadata": {},
   "outputs": [],
   "source": [
    "import numpy as np\n",
    "import matplotlib.pyplot as plt"
   ]
  },
  {
   "cell_type": "code",
   "execution_count": 2,
   "metadata": {},
   "outputs": [],
   "source": [
    "# create dog population\n",
    "greyhounds = 500\n",
    "labs = 500"
   ]
  },
  {
   "cell_type": "code",
   "execution_count": 3,
   "metadata": {},
   "outputs": [],
   "source": [
    "# give them height\n",
    "grey_height = 28 + 4 * np.random.randn(greyhounds)\n",
    "lab_height = 24 + 4 * np.random.randn(labs)"
   ]
  },
  {
   "cell_type": "code",
   "execution_count": 4,
   "metadata": {},
   "outputs": [
    {
     "data": {
      "image/png": "[encoded data removed]",
      "text/plain": [
       "<matplotlib.figure.Figure at 0x1e444844668>"
      ]
     },
     "metadata": {},
     "output_type": "display_data"
    }
   ],
   "source": [
    "# visualize in histogram\n",
    "plt.hist([grey_height, lab_height], stacked = True, color = ['r', 'b'])\n",
    "plt.show()"
   ]
  }
 ],
 "metadata": {
  "kernelspec": {
   "display_name": "Python 3",
   "language": "python",
   "name": "python3"
  },
  "language_info": {
   "codemirror_mode": {
    "name": "ipython",
    "version": 3
   },
   "file_extension": ".py",
   "mimetype": "text/x-python",
   "name": "python",
   "nbconvert_exporter": "python",
   "pygments_lexer": "ipython3",
   "version": "3.6.4"
  }
 },
 "nbformat": 4,
 "nbformat_minor": 2
}
